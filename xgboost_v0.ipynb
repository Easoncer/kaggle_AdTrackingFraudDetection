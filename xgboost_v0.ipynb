{
 "cells": [
  {
   "cell_type": "code",
   "execution_count": 1,
   "metadata": {},
   "outputs": [
    {
     "name": "stderr",
     "output_type": "stream",
     "text": [
      "/anaconda2/lib/python2.7/site-packages/sklearn/cross_validation.py:41: DeprecationWarning: This module was deprecated in version 0.18 in favor of the model_selection module into which all the refactored classes and functions are moved. Also note that the interface of the new CV iterators are different from that of this module. This module will be removed in 0.20.\n",
      "  \"This module will be removed in 0.20.\", DeprecationWarning)\n"
     ]
    }
   ],
   "source": [
    "import pandas as pd\n",
    "import time\n",
    "import numpy as np\n",
    "from sklearn.cross_validation import train_test_split\n",
    "import xgboost as xgb"
   ]
  },
  {
   "cell_type": "code",
   "execution_count": 4,
   "metadata": {
    "collapsed": true
   },
   "outputs": [],
   "source": [
    "path = 'dataset/'"
   ]
  },
  {
   "cell_type": "code",
   "execution_count": 5,
   "metadata": {
    "collapsed": true
   },
   "outputs": [],
   "source": [
    "def dataPreProcessTime(df):\n",
    "    df['click_time'] = pd.to_datetime(df['click_time']).dt.date\n",
    "    df['click_time'] = df['click_time'].apply(lambda x: x.strftime('%Y%m%d')).astype(int)\n",
    "    return df"
   ]
  },
  {
   "cell_type": "code",
   "execution_count": 6,
   "metadata": {
    "collapsed": true
   },
   "outputs": [],
   "source": [
    "start_time = time.time()"
   ]
  },
  {
   "cell_type": "code",
   "execution_count": 7,
   "metadata": {},
   "outputs": [
    {
     "name": "stderr",
     "output_type": "stream",
     "text": [
      "/anaconda2/lib/python2.7/site-packages/IPython/core/interactiveshell.py:2718: DtypeWarning: Columns (6) have mixed types. Specify dtype option on import or set low_memory=False.\n",
      "  interactivity=interactivity, compiler=compiler, result=result)\n"
     ]
    },
    {
     "name": "stdout",
     "output_type": "stream",
     "text": [
      "[81.2262809277] Finished loading data\n"
     ]
    }
   ],
   "source": [
    "train = pd.read_csv(path+\"train.csv\", skiprows=160000000, nrows=40000000)\n",
    "test = pd.read_csv(path+\"test.csv\")\n",
    "train.columns = ['ip', 'app', 'device', 'os', 'channel', 'click_time', 'attributed_time', 'is_attributed']\n",
    "\n",
    "print('[{}] Finished loading data'.format(time.time() - start_time))"
   ]
  },
  {
   "cell_type": "code",
   "execution_count": 8,
   "metadata": {
    "collapsed": true
   },
   "outputs": [],
   "source": [
    "train = dataPreProcessTime(train)\n",
    "test = dataPreProcessTime(test)\n",
    "\n",
    "y = train['is_attributed']\n",
    "train.drop(['is_attributed', 'attributed_time'], axis=1, inplace=True)"
   ]
  },
  {
   "cell_type": "code",
   "execution_count": 9,
   "metadata": {},
   "outputs": [
    {
     "name": "stdout",
     "output_type": "stream",
     "text": [
      "[509.827786922] Start XGBoost Training\n"
     ]
    }
   ],
   "source": [
    "sub = pd.DataFrame()\n",
    "sub['click_id'] = test['click_id']\n",
    "test.drop('click_id', axis=1, inplace=True)\n",
    "\n",
    "print('[{}] Start XGBoost Training'.format(time.time() - start_time))"
   ]
  },
  {
   "cell_type": "code",
   "execution_count": 10,
   "metadata": {
    "collapsed": true
   },
   "outputs": [],
   "source": [
    "params = {'eta': 0.1, \n",
    "          'max_depth': 4, \n",
    "          'subsample': 0.9, \n",
    "          'colsample_bytree': 0.7, \n",
    "          'colsample_bylevel':0.7,\n",
    "          'min_child_weight':100,\n",
    "          'alpha':4,\n",
    "          'objective': 'binary:logistic', \n",
    "          'eval_metric': 'auc', \n",
    "          'random_state': 99, \n",
    "          'scale_pos_weight': 150,\n",
    "          'silent': True}\n",
    "          \n",
    "x1, x2, y1, y2 = train_test_split(train, y, test_size=0.1, random_state=99)"
   ]
  },
  {
   "cell_type": "code",
   "execution_count": 11,
   "metadata": {},
   "outputs": [
    {
     "name": "stdout",
     "output_type": "stream",
     "text": [
      "[0]\ttrain-auc:0.936604\tvalid-auc:0.932967\n",
      "[10]\ttrain-auc:0.954738\tvalid-auc:0.95207\n",
      "[20]\ttrain-auc:0.957782\tvalid-auc:0.954578\n",
      "[30]\ttrain-auc:0.957866\tvalid-auc:0.95454\n",
      "[40]\ttrain-auc:0.96087\tvalid-auc:0.957605\n",
      "[50]\ttrain-auc:0.962488\tvalid-auc:0.959326\n",
      "[60]\ttrain-auc:0.964568\tvalid-auc:0.961497\n",
      "[70]\ttrain-auc:0.965797\tvalid-auc:0.96279\n",
      "[80]\ttrain-auc:0.966744\tvalid-auc:0.963732\n",
      "[90]\ttrain-auc:0.967409\tvalid-auc:0.964292\n",
      "[100]\ttrain-auc:0.967917\tvalid-auc:0.964733\n",
      "[110]\ttrain-auc:0.968352\tvalid-auc:0.965054\n",
      "[120]\ttrain-auc:0.968835\tvalid-auc:0.965434\n",
      "[130]\ttrain-auc:0.969139\tvalid-auc:0.96565\n",
      "[140]\ttrain-auc:0.96939\tvalid-auc:0.965807\n",
      "[150]\ttrain-auc:0.969644\tvalid-auc:0.96598\n",
      "[160]\ttrain-auc:0.969848\tvalid-auc:0.966119\n",
      "[170]\ttrain-auc:0.970068\tvalid-auc:0.966258\n",
      "[180]\ttrain-auc:0.970262\tvalid-auc:0.966374\n",
      "[190]\ttrain-auc:0.97041\tvalid-auc:0.966493\n",
      "[200]\ttrain-auc:0.970609\tvalid-auc:0.966572\n",
      "[210]\ttrain-auc:0.970733\tvalid-auc:0.966665\n",
      "[220]\ttrain-auc:0.970878\tvalid-auc:0.966754\n",
      "[230]\ttrain-auc:0.971014\tvalid-auc:0.966822\n",
      "[240]\ttrain-auc:0.971169\tvalid-auc:0.966929\n",
      "[250]\ttrain-auc:0.971274\tvalid-auc:0.967018\n",
      "[260]\ttrain-auc:0.971406\tvalid-auc:0.967059\n",
      "[269]\ttrain-auc:0.971507\tvalid-auc:0.96707\n",
      "[4327.61087489] Finish XGBoost Training\n"
     ]
    }
   ],
   "source": [
    "watchlist = [(xgb.DMatrix(x1, y1), 'train'), (xgb.DMatrix(x2, y2), 'valid')]\n",
    "model = xgb.train(params, xgb.DMatrix(x1, y1), 270, watchlist, maximize=True, verbose_eval=10)\n",
    "\n",
    "print('[{}] Finish XGBoost Training'.format(time.time() - start_time))"
   ]
  },
  {
   "cell_type": "code",
   "execution_count": 12,
   "metadata": {
    "collapsed": true
   },
   "outputs": [],
   "source": [
    "sub['is_attributed'] = model.predict(xgb.DMatrix(test), ntree_limit=model.best_ntree_limit)\n",
    "sub.to_csv('xgb_sub.csv',index=False)"
   ]
  },
  {
   "cell_type": "code",
   "execution_count": null,
   "metadata": {
    "collapsed": true
   },
   "outputs": [],
   "source": []
  }
 ],
 "metadata": {
  "kernelspec": {
   "display_name": "Python 2",
   "language": "python",
   "name": "python2"
  },
  "language_info": {
   "codemirror_mode": {
    "name": "ipython",
    "version": 2
   },
   "file_extension": ".py",
   "mimetype": "text/x-python",
   "name": "python",
   "nbconvert_exporter": "python",
   "pygments_lexer": "ipython2",
   "version": "2.7.14"
  }
 },
 "nbformat": 4,
 "nbformat_minor": 2
}
