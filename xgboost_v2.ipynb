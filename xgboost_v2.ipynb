{
 "cells": [
  {
   "cell_type": "code",
   "execution_count": 1,
   "metadata": {},
   "outputs": [
    {
     "name": "stderr",
     "output_type": "stream",
     "text": [
      "/anaconda2/lib/python2.7/site-packages/sklearn/cross_validation.py:41: DeprecationWarning: This module was deprecated in version 0.18 in favor of the model_selection module into which all the refactored classes and functions are moved. Also note that the interface of the new CV iterators are different from that of this module. This module will be removed in 0.20.\n",
      "  \"This module will be removed in 0.20.\", DeprecationWarning)\n"
     ]
    }
   ],
   "source": [
    "import pandas as pd\n",
    "import time\n",
    "import numpy as np\n",
    "from sklearn.cross_validation import train_test_split\n",
    "import xgboost as xgb"
   ]
  },
  {
   "cell_type": "code",
   "execution_count": 2,
   "metadata": {
    "collapsed": true
   },
   "outputs": [],
   "source": [
    "path = 'dataset/'"
   ]
  },
  {
   "cell_type": "code",
   "execution_count": 3,
   "metadata": {
    "collapsed": true
   },
   "outputs": [],
   "source": [
    "# processing the timeline\n",
    "def dataPreProcessTime(df):\n",
    "    #df['click_time'] = pd.to_datetime(df['click_time']).dt.date\n",
    "    #df['click_time'] = df['click_time'].apply(lambda x: x.strftime('%Y%m%d')).astype(int)\n",
    "    df['month'] = pd.to_datetime(df['click_time']).dt.month.astype(int)\n",
    "    df['hour'] = pd.to_datetime(df['click_time']).dt.hour.astype(int)\n",
    "    df['day'] = pd.to_datetime(df['click_time']).dt.day.astype(int)\n",
    "    return df"
   ]
  },
  {
   "cell_type": "code",
   "execution_count": 4,
   "metadata": {
    "collapsed": true
   },
   "outputs": [],
   "source": [
    "start_time = time.time()"
   ]
  },
  {
   "cell_type": "code",
   "execution_count": 5,
   "metadata": {},
   "outputs": [
    {
     "name": "stdout",
     "output_type": "stream",
     "text": [
      "[25.6898591518] Finished loading data\n"
     ]
    }
   ],
   "source": [
    "train = pd.read_csv(path+\"train.csv\", skiprows=0, nrows=10000000)\n",
    "test = pd.read_csv(path+\"test.csv\")\n",
    "train.columns = ['ip', 'app', 'device', 'os', 'channel', 'click_time', 'attributed_time', 'is_attributed']\n",
    "\n",
    "print('[{}] Finished loading data'.format(time.time() - start_time))"
   ]
  },
  {
   "cell_type": "code",
   "execution_count": 6,
   "metadata": {
    "collapsed": true
   },
   "outputs": [],
   "source": [
    "train = dataPreProcessTime(train)\n",
    "test = dataPreProcessTime(test)\n",
    "\n",
    "y = train['is_attributed']\n",
    "train.drop(['is_attributed', 'attributed_time'], axis=1, inplace=True)"
   ]
  },
  {
   "cell_type": "code",
   "execution_count": 7,
   "metadata": {},
   "outputs": [
    {
     "name": "stdout",
     "output_type": "stream",
     "text": [
      "[83.6423830986] Start XGBoost Training\n"
     ]
    }
   ],
   "source": [
    "sub = pd.DataFrame()\n",
    "sub['click_id'] = test['click_id']\n",
    "test.drop('click_id', axis=1, inplace=True)\n",
    "\n",
    "train.drop('click_time', axis=1, inplace=True)\n",
    "test.drop('click_time', axis=1, inplace=True)\n",
    "\n",
    "print('[{}] Start XGBoost Training'.format(time.time() - start_time))"
   ]
  },
  {
   "cell_type": "code",
   "execution_count": 8,
   "metadata": {
    "collapsed": true
   },
   "outputs": [],
   "source": [
    "params = {'eta': 0.1, \n",
    "          'max_depth': 4, \n",
    "          'subsample': 0.9, \n",
    "          'colsample_bytree': 0.7, \n",
    "          'colsample_bylevel':0.7,\n",
    "          'min_child_weight':100,\n",
    "          'alpha':4,\n",
    "          'objective': 'binary:logistic', \n",
    "          'eval_metric': 'auc', \n",
    "          'random_state': 99, \n",
    "          'scale_pos_weight': 150,\n",
    "          'silent': True}\n",
    "          \n",
    "#x1, x2, y1, y2 = train_test_split(train, y, test_size=0.1, random_state=99)"
   ]
  },
  {
   "cell_type": "code",
   "execution_count": 9,
   "metadata": {
    "collapsed": true
   },
   "outputs": [],
   "source": [
    "from sklearn.model_selection import KFold"
   ]
  },
  {
   "cell_type": "code",
   "execution_count": 10,
   "metadata": {},
   "outputs": [],
   "source": [
    "num_folds = 3\n",
    "seed = 7 \n",
    "kf = KFold(n_splits=num_folds, shuffle=True, random_state=seed)"
   ]
  },
  {
   "cell_type": "code",
   "execution_count": 22,
   "metadata": {},
   "outputs": [],
   "source": [
    "train_x = train\n",
    "for i,j in kf.split(train_x):\n",
    "    train_x.ix[i]"
   ]
  },
  {
   "cell_type": "code",
   "execution_count": 11,
   "metadata": {},
   "outputs": [
    {
     "name": "stderr",
     "output_type": "stream",
     "text": [
      "/anaconda2/lib/python2.7/site-packages/ipykernel_launcher.py:4: DeprecationWarning: \n",
      ".ix is deprecated. Please use\n",
      ".loc for label based indexing or\n",
      ".iloc for positional indexing\n",
      "\n",
      "See the documentation here:\n",
      "http://pandas.pydata.org/pandas-docs/stable/indexing.html#ix-indexer-is-deprecated\n",
      "  after removing the cwd from sys.path.\n"
     ]
    },
    {
     "name": "stdout",
     "output_type": "stream",
     "text": [
      "[0]\ttrain-auc:0.923313\tvalid-auc:0.922067\n",
      "[10]\ttrain-auc:0.920969\tvalid-auc:0.919468\n",
      "[20]\ttrain-auc:0.930514\tvalid-auc:0.929248\n",
      "[29]\ttrain-auc:0.936575\tvalid-auc:0.935607\n",
      "[249.991210222] Finish XGBoost Training\n",
      "[0]\ttrain-auc:0.923415\tvalid-auc:0.921728\n",
      "[10]\ttrain-auc:0.929849\tvalid-auc:0.928341\n",
      "[20]\ttrain-auc:0.937852\tvalid-auc:0.936874\n",
      "[29]\ttrain-auc:0.941635\tvalid-auc:0.940244\n",
      "[388.220332146] Finish XGBoost Training\n",
      "[0]\ttrain-auc:0.921895\tvalid-auc:0.923671\n",
      "[10]\ttrain-auc:0.927605\tvalid-auc:0.929733\n",
      "[20]\ttrain-auc:0.936074\tvalid-auc:0.937216\n",
      "[29]\ttrain-auc:0.940851\tvalid-auc:0.941946\n",
      "[520.829543114] Finish XGBoost Training\n"
     ]
    }
   ],
   "source": [
    "train_x = train\n",
    "train_y = y\n",
    "for train_index, test_index in kf.split(train_x):\n",
    "    watchlist = [(xgb.DMatrix(train_x.ix[train_index], train_y.ix[train_index]), 'train'), (xgb.DMatrix(train_x.ix[test_index], train_y.ix[test_index]), 'valid')]\n",
    "    model = xgb.train(params, xgb.DMatrix(train_x.ix[train_index], train_y.ix[train_index]), 30 , watchlist, maximize=True, verbose_eval=10)\n",
    "    print('[{}] Finish XGBoost Training'.format(time.time() - start_time))\n",
    "    "
   ]
  },
  {
   "cell_type": "code",
   "execution_count": 12,
   "metadata": {},
   "outputs": [
    {
     "data": {
      "text/plain": [
       "<xgboost.core.Booster at 0x1a1488b450>"
      ]
     },
     "execution_count": 12,
     "metadata": {},
     "output_type": "execute_result"
    }
   ],
   "source": []
  },
  {
   "cell_type": "code",
   "execution_count": 31,
   "metadata": {},
   "outputs": [
    {
     "ename": "NameError",
     "evalue": "name 'confusion_matrix' is not defined",
     "output_type": "error",
     "traceback": [
      "\u001b[0;31m---------------------------------------------------------------------------\u001b[0m",
      "\u001b[0;31mNameError\u001b[0m                                 Traceback (most recent call last)",
      "\u001b[0;32m<ipython-input-31-b53708b6433e>\u001b[0m in \u001b[0;36m<module>\u001b[0;34m()\u001b[0m\n\u001b[1;32m      6\u001b[0m     \u001b[0mpredictions\u001b[0m \u001b[0;34m=\u001b[0m \u001b[0mxgb_model\u001b[0m\u001b[0;34m.\u001b[0m\u001b[0mpredict\u001b[0m\u001b[0;34m(\u001b[0m\u001b[0mtrain_x\u001b[0m\u001b[0;34m[\u001b[0m\u001b[0mtest_index\u001b[0m\u001b[0;34m]\u001b[0m\u001b[0;34m)\u001b[0m\u001b[0;34m\u001b[0m\u001b[0m\n\u001b[1;32m      7\u001b[0m     \u001b[0mactuals\u001b[0m \u001b[0;34m=\u001b[0m \u001b[0mtrain_y\u001b[0m\u001b[0;34m[\u001b[0m\u001b[0mtest_index\u001b[0m\u001b[0;34m]\u001b[0m\u001b[0;34m\u001b[0m\u001b[0m\n\u001b[0;32m----> 8\u001b[0;31m     \u001b[0;32mprint\u001b[0m\u001b[0;34m(\u001b[0m\u001b[0mconfusion_matrix\u001b[0m\u001b[0;34m(\u001b[0m\u001b[0mactuals\u001b[0m\u001b[0;34m,\u001b[0m \u001b[0mpredictions\u001b[0m\u001b[0;34m)\u001b[0m\u001b[0;34m)\u001b[0m\u001b[0;34m\u001b[0m\u001b[0m\n\u001b[0m",
      "\u001b[0;31mNameError\u001b[0m: name 'confusion_matrix' is not defined"
     ]
    }
   ],
   "source": [
    "#result  = cross_val_score(model, train, y , cv= kfold)\n",
    "train_x = train.values\n",
    "train_y = y.values \n",
    "for train_index, test_index in kf.split(train_x):\n",
    "    xgb_model = xgb.XGBClassifier().fit(train_x[train_index], train_y[train_index])\n",
    "    predictions = xgb_model.predict(train_x[test_index])\n",
    "    actuals = train_y[test_index]\n",
    "    print(confusion_matrix(actuals, predictions))"
   ]
  },
  {
   "cell_type": "code",
   "execution_count": 9,
   "metadata": {},
   "outputs": [
    {
     "name": "stdout",
     "output_type": "stream",
     "text": [
      "[0]\ttrain-auc:0.935956\tvalid-auc:0.931926\n",
      "[10]\ttrain-auc:0.952274\tvalid-auc:0.949015\n",
      "[20]\ttrain-auc:0.955979\tvalid-auc:0.952873\n",
      "[30]\ttrain-auc:0.958867\tvalid-auc:0.955856\n",
      "[40]\ttrain-auc:0.960911\tvalid-auc:0.958138\n",
      "[50]\ttrain-auc:0.962945\tvalid-auc:0.960157\n",
      "[60]\ttrain-auc:0.96469\tvalid-auc:0.961871\n",
      "[70]\ttrain-auc:0.965989\tvalid-auc:0.9631\n",
      "[80]\ttrain-auc:0.96717\tvalid-auc:0.964387\n",
      "[90]\ttrain-auc:0.967747\tvalid-auc:0.964887\n",
      "[100]\ttrain-auc:0.968272\tvalid-auc:0.965359\n",
      "[110]\ttrain-auc:0.968661\tvalid-auc:0.96567\n",
      "[120]\ttrain-auc:0.96904\tvalid-auc:0.965953\n",
      "[130]\ttrain-auc:0.969414\tvalid-auc:0.966223\n",
      "[140]\ttrain-auc:0.969698\tvalid-auc:0.966408\n",
      "[150]\ttrain-auc:0.970002\tvalid-auc:0.966595\n",
      "[160]\ttrain-auc:0.97026\tvalid-auc:0.966807\n",
      "[170]\ttrain-auc:0.970518\tvalid-auc:0.967064\n",
      "[180]\ttrain-auc:0.970793\tvalid-auc:0.967311\n",
      "[190]\ttrain-auc:0.970992\tvalid-auc:0.96748\n",
      "[200]\ttrain-auc:0.971155\tvalid-auc:0.967647\n",
      "[210]\ttrain-auc:0.971335\tvalid-auc:0.967778\n",
      "[220]\ttrain-auc:0.971536\tvalid-auc:0.967898\n",
      "[230]\ttrain-auc:0.971705\tvalid-auc:0.967984\n",
      "[240]\ttrain-auc:0.971806\tvalid-auc:0.968069\n",
      "[250]\ttrain-auc:0.971938\tvalid-auc:0.96816\n",
      "[260]\ttrain-auc:0.97206\tvalid-auc:0.968244\n",
      "[270]\ttrain-auc:0.97216\tvalid-auc:0.968313\n",
      "[280]\ttrain-auc:0.972309\tvalid-auc:0.96837\n",
      "[290]\ttrain-auc:0.972433\tvalid-auc:0.968455\n",
      "[300]\ttrain-auc:0.972546\tvalid-auc:0.968519\n",
      "[310]\ttrain-auc:0.972732\tvalid-auc:0.968694\n",
      "[320]\ttrain-auc:0.972843\tvalid-auc:0.96879\n",
      "[330]\ttrain-auc:0.972923\tvalid-auc:0.9688\n",
      "[340]\ttrain-auc:0.973014\tvalid-auc:0.968835\n",
      "[350]\ttrain-auc:0.973131\tvalid-auc:0.968931\n",
      "[360]\ttrain-auc:0.973216\tvalid-auc:0.968969\n",
      "[370]\ttrain-auc:0.973291\tvalid-auc:0.968994\n",
      "[380]\ttrain-auc:0.973391\tvalid-auc:0.969047\n",
      "[390]\ttrain-auc:0.973494\tvalid-auc:0.969067\n",
      "[400]\ttrain-auc:0.973594\tvalid-auc:0.969136\n",
      "[410]\ttrain-auc:0.973685\tvalid-auc:0.969229\n",
      "[420]\ttrain-auc:0.973761\tvalid-auc:0.969243\n",
      "[430]\ttrain-auc:0.973828\tvalid-auc:0.969249\n",
      "[440]\ttrain-auc:0.973881\tvalid-auc:0.969286\n",
      "[450]\ttrain-auc:0.973954\tvalid-auc:0.969301\n",
      "[460]\ttrain-auc:0.974033\tvalid-auc:0.969341\n",
      "[470]\ttrain-auc:0.974117\tvalid-auc:0.969359\n",
      "[480]\ttrain-auc:0.974194\tvalid-auc:0.969393\n",
      "[490]\ttrain-auc:0.974274\tvalid-auc:0.96942\n",
      "[500]\ttrain-auc:0.974331\tvalid-auc:0.969446\n",
      "[510]\ttrain-auc:0.974387\tvalid-auc:0.969475\n",
      "[520]\ttrain-auc:0.974462\tvalid-auc:0.969486\n",
      "[530]\ttrain-auc:0.97453\tvalid-auc:0.969488\n",
      "[540]\ttrain-auc:0.974593\tvalid-auc:0.969509\n",
      "[550]\ttrain-auc:0.974653\tvalid-auc:0.969526\n",
      "[560]\ttrain-auc:0.974708\tvalid-auc:0.969532\n",
      "[570]\ttrain-auc:0.974761\tvalid-auc:0.969534\n",
      "[580]\ttrain-auc:0.974829\tvalid-auc:0.969583\n",
      "[590]\ttrain-auc:0.974883\tvalid-auc:0.969621\n",
      "[600]\ttrain-auc:0.974937\tvalid-auc:0.969646\n",
      "[610]\ttrain-auc:0.974993\tvalid-auc:0.969671\n",
      "[620]\ttrain-auc:0.975041\tvalid-auc:0.969674\n",
      "[630]\ttrain-auc:0.975102\tvalid-auc:0.969679\n",
      "[640]\ttrain-auc:0.975142\tvalid-auc:0.969667\n",
      "[650]\ttrain-auc:0.975192\tvalid-auc:0.969688\n",
      "[660]\ttrain-auc:0.975261\tvalid-auc:0.969716\n",
      "[670]\ttrain-auc:0.975307\tvalid-auc:0.969726\n",
      "[680]\ttrain-auc:0.975352\tvalid-auc:0.969744\n",
      "[690]\ttrain-auc:0.975406\tvalid-auc:0.969766\n",
      "[700]\ttrain-auc:0.975452\tvalid-auc:0.969748\n",
      "[710]\ttrain-auc:0.975494\tvalid-auc:0.969745\n",
      "[720]\ttrain-auc:0.975546\tvalid-auc:0.969756\n",
      "[730]\ttrain-auc:0.975589\tvalid-auc:0.969765\n",
      "[740]\ttrain-auc:0.975643\tvalid-auc:0.969761\n",
      "[750]\ttrain-auc:0.975686\tvalid-auc:0.969769\n",
      "[760]\ttrain-auc:0.975729\tvalid-auc:0.969786\n",
      "[770]\ttrain-auc:0.975783\tvalid-auc:0.969794\n",
      "[780]\ttrain-auc:0.975829\tvalid-auc:0.96979\n",
      "[790]\ttrain-auc:0.975876\tvalid-auc:0.969807\n",
      "[800]\ttrain-auc:0.975919\tvalid-auc:0.969821\n",
      "[810]\ttrain-auc:0.975956\tvalid-auc:0.969814\n",
      "[820]\ttrain-auc:0.975986\tvalid-auc:0.969824\n",
      "[830]\ttrain-auc:0.976019\tvalid-auc:0.969817\n",
      "[840]\ttrain-auc:0.97606\tvalid-auc:0.969826\n",
      "[850]\ttrain-auc:0.976092\tvalid-auc:0.96985\n",
      "[860]\ttrain-auc:0.976134\tvalid-auc:0.969838\n",
      "[870]\ttrain-auc:0.976177\tvalid-auc:0.969849\n",
      "[880]\ttrain-auc:0.976219\tvalid-auc:0.969856\n",
      "[890]\ttrain-auc:0.976271\tvalid-auc:0.969856\n",
      "[900]\ttrain-auc:0.976306\tvalid-auc:0.969842\n",
      "[910]\ttrain-auc:0.976354\tvalid-auc:0.969849\n",
      "[920]\ttrain-auc:0.976401\tvalid-auc:0.969848\n",
      "[930]\ttrain-auc:0.976442\tvalid-auc:0.969862\n",
      "[940]\ttrain-auc:0.976475\tvalid-auc:0.969871\n",
      "[950]\ttrain-auc:0.976509\tvalid-auc:0.969887\n",
      "[960]\ttrain-auc:0.976553\tvalid-auc:0.969906\n",
      "[970]\ttrain-auc:0.976586\tvalid-auc:0.969904\n",
      "[980]\ttrain-auc:0.976619\tvalid-auc:0.969918\n",
      "[990]\ttrain-auc:0.976654\tvalid-auc:0.969921\n",
      "[1000]\ttrain-auc:0.976689\tvalid-auc:0.969931\n",
      "[1010]\ttrain-auc:0.976724\tvalid-auc:0.969921\n",
      "[1020]\ttrain-auc:0.976749\tvalid-auc:0.969932\n",
      "[1030]\ttrain-auc:0.976783\tvalid-auc:0.969962\n",
      "[1040]\ttrain-auc:0.976816\tvalid-auc:0.969977\n",
      "[1050]\ttrain-auc:0.976849\tvalid-auc:0.970004\n",
      "[1060]\ttrain-auc:0.976875\tvalid-auc:0.970018\n",
      "[1070]\ttrain-auc:0.976905\tvalid-auc:0.970014\n",
      "[1080]\ttrain-auc:0.976928\tvalid-auc:0.970015\n",
      "[1090]\ttrain-auc:0.976968\tvalid-auc:0.970013\n",
      "[1100]\ttrain-auc:0.976996\tvalid-auc:0.970047\n",
      "[1110]\ttrain-auc:0.977035\tvalid-auc:0.970066\n",
      "[1120]\ttrain-auc:0.977062\tvalid-auc:0.970082\n",
      "[1130]\ttrain-auc:0.977097\tvalid-auc:0.970092\n",
      "[1140]\ttrain-auc:0.97713\tvalid-auc:0.970093\n",
      "[1150]\ttrain-auc:0.977157\tvalid-auc:0.97008\n",
      "[1160]\ttrain-auc:0.977189\tvalid-auc:0.970086\n",
      "[1170]\ttrain-auc:0.977213\tvalid-auc:0.970089\n",
      "[1180]\ttrain-auc:0.977242\tvalid-auc:0.970085\n",
      "[1190]\ttrain-auc:0.977266\tvalid-auc:0.970083\n",
      "[1200]\ttrain-auc:0.977288\tvalid-auc:0.970051\n",
      "[1210]\ttrain-auc:0.977317\tvalid-auc:0.970051\n",
      "[1220]\ttrain-auc:0.977348\tvalid-auc:0.970038\n",
      "[1230]\ttrain-auc:0.977375\tvalid-auc:0.970016\n",
      "[1240]\ttrain-auc:0.977408\tvalid-auc:0.970028\n",
      "[1250]\ttrain-auc:0.97744\tvalid-auc:0.970028\n",
      "[1260]\ttrain-auc:0.977471\tvalid-auc:0.970035\n",
      "[1270]\ttrain-auc:0.977494\tvalid-auc:0.970052\n",
      "[1280]\ttrain-auc:0.977529\tvalid-auc:0.970052\n",
      "[1290]\ttrain-auc:0.977564\tvalid-auc:0.970052\n",
      "[1300]\ttrain-auc:0.977597\tvalid-auc:0.970045\n",
      "[1310]\ttrain-auc:0.977624\tvalid-auc:0.97005\n",
      "[1320]\ttrain-auc:0.977651\tvalid-auc:0.970047\n",
      "[1330]\ttrain-auc:0.977673\tvalid-auc:0.970041\n",
      "[1340]\ttrain-auc:0.977699\tvalid-auc:0.970031\n",
      "[1350]\ttrain-auc:0.977729\tvalid-auc:0.970038\n",
      "[1360]\ttrain-auc:0.977753\tvalid-auc:0.970036\n",
      "[1370]\ttrain-auc:0.97779\tvalid-auc:0.970025\n",
      "[1380]\ttrain-auc:0.977816\tvalid-auc:0.970019\n",
      "[1390]\ttrain-auc:0.977843\tvalid-auc:0.970015\n",
      "[1400]\ttrain-auc:0.977872\tvalid-auc:0.970003\n",
      "[1410]\ttrain-auc:0.977895\tvalid-auc:0.970013\n",
      "[1420]\ttrain-auc:0.977926\tvalid-auc:0.969978\n",
      "[1430]\ttrain-auc:0.977946\tvalid-auc:0.969973\n",
      "[1440]\ttrain-auc:0.977972\tvalid-auc:0.969986\n",
      "[1450]\ttrain-auc:0.977996\tvalid-auc:0.96999\n",
      "[1460]\ttrain-auc:0.978022\tvalid-auc:0.969984\n",
      "[1470]\ttrain-auc:0.978046\tvalid-auc:0.969977\n",
      "[1480]\ttrain-auc:0.978063\tvalid-auc:0.969979\n",
      "[1490]\ttrain-auc:0.978084\tvalid-auc:0.969987\n",
      "[1500]\ttrain-auc:0.978108\tvalid-auc:0.96999\n",
      "[1510]\ttrain-auc:0.978131\tvalid-auc:0.970003\n",
      "[1520]\ttrain-auc:0.978159\tvalid-auc:0.969997\n",
      "[1530]\ttrain-auc:0.978182\tvalid-auc:0.969987\n",
      "[1540]\ttrain-auc:0.978199\tvalid-auc:0.970011\n",
      "[1550]\ttrain-auc:0.978221\tvalid-auc:0.970005\n",
      "[1560]\ttrain-auc:0.978248\tvalid-auc:0.970019\n",
      "[1570]\ttrain-auc:0.978273\tvalid-auc:0.970028\n",
      "[1580]\ttrain-auc:0.978302\tvalid-auc:0.970031\n",
      "[1590]\ttrain-auc:0.978327\tvalid-auc:0.970041\n",
      "[1600]\ttrain-auc:0.978349\tvalid-auc:0.970025\n",
      "[1610]\ttrain-auc:0.978373\tvalid-auc:0.970009\n",
      "[1620]\ttrain-auc:0.978401\tvalid-auc:0.970012\n",
      "[1630]\ttrain-auc:0.978429\tvalid-auc:0.970003\n",
      "[1640]\ttrain-auc:0.978454\tvalid-auc:0.970031\n",
      "[1650]\ttrain-auc:0.97847\tvalid-auc:0.970028\n",
      "[1660]\ttrain-auc:0.978487\tvalid-auc:0.97002\n",
      "[1670]\ttrain-auc:0.978516\tvalid-auc:0.970013\n",
      "[1680]\ttrain-auc:0.978536\tvalid-auc:0.970024\n",
      "[1690]\ttrain-auc:0.978556\tvalid-auc:0.970032\n",
      "[1700]\ttrain-auc:0.978575\tvalid-auc:0.970028\n",
      "[1710]\ttrain-auc:0.978591\tvalid-auc:0.970016\n",
      "[1720]\ttrain-auc:0.978614\tvalid-auc:0.970029\n",
      "[1730]\ttrain-auc:0.978642\tvalid-auc:0.970009\n",
      "[1740]\ttrain-auc:0.978662\tvalid-auc:0.96999\n",
      "[1750]\ttrain-auc:0.978677\tvalid-auc:0.97001\n",
      "[1760]\ttrain-auc:0.978697\tvalid-auc:0.970007\n",
      "[1770]\ttrain-auc:0.978714\tvalid-auc:0.970001\n",
      "[1780]\ttrain-auc:0.978724\tvalid-auc:0.970014\n",
      "[1790]\ttrain-auc:0.978744\tvalid-auc:0.970016\n",
      "[1800]\ttrain-auc:0.978762\tvalid-auc:0.970006\n",
      "[1810]\ttrain-auc:0.978778\tvalid-auc:0.969998\n",
      "[1820]\ttrain-auc:0.978799\tvalid-auc:0.970002\n",
      "[1830]\ttrain-auc:0.978817\tvalid-auc:0.970013\n",
      "[1840]\ttrain-auc:0.978844\tvalid-auc:0.970012\n",
      "[1850]\ttrain-auc:0.978865\tvalid-auc:0.970013\n"
     ]
    },
    {
     "name": "stdout",
     "output_type": "stream",
     "text": [
      "[1860]\ttrain-auc:0.978888\tvalid-auc:0.970014\n",
      "[1870]\ttrain-auc:0.978908\tvalid-auc:0.970014\n",
      "[1880]\ttrain-auc:0.978921\tvalid-auc:0.970014\n",
      "[1890]\ttrain-auc:0.978937\tvalid-auc:0.970023\n",
      "[1900]\ttrain-auc:0.978954\tvalid-auc:0.970019\n",
      "[1910]\ttrain-auc:0.978971\tvalid-auc:0.970003\n",
      "[1920]\ttrain-auc:0.978989\tvalid-auc:0.969998\n",
      "[1930]\ttrain-auc:0.979008\tvalid-auc:0.97\n",
      "[1940]\ttrain-auc:0.97903\tvalid-auc:0.970006\n",
      "[1950]\ttrain-auc:0.979049\tvalid-auc:0.970002\n",
      "[1960]\ttrain-auc:0.97907\tvalid-auc:0.969991\n",
      "[1970]\ttrain-auc:0.979088\tvalid-auc:0.969978\n",
      "[1980]\ttrain-auc:0.979101\tvalid-auc:0.969966\n",
      "[1990]\ttrain-auc:0.979124\tvalid-auc:0.969967\n",
      "[1999]\ttrain-auc:0.97914\tvalid-auc:0.969966\n",
      "[10788.5003619] Finish XGBoost Training\n"
     ]
    }
   ],
   "source": [
    "watchlist = [(xgb.DMatrix(x1, y1), 'train'), (xgb.DMatrix(x2, y2), 'valid')]\n",
    "model = xgb.train(params, xgb.DMatrix(x1, y1), 800 , watchlist, maximize=True, verbose_eval=10)\n",
    "\n",
    "print('[{}] Finish XGBoost Training'.format(time.time() - start_time))"
   ]
  },
  {
   "cell_type": "code",
   "execution_count": 10,
   "metadata": {
    "collapsed": true
   },
   "outputs": [],
   "source": [
    "sub['is_attributed'] = model.predict(xgb.DMatrix(test), ntree_limit=model.best_ntree_limit)\n",
    "sub.to_csv('xgb_sub.csv',index=False)"
   ]
  },
  {
   "cell_type": "code",
   "execution_count": null,
   "metadata": {
    "collapsed": true
   },
   "outputs": [],
   "source": []
  }
 ],
 "metadata": {
  "kernelspec": {
   "display_name": "Python 2",
   "language": "python",
   "name": "python2"
  },
  "language_info": {
   "codemirror_mode": {
    "name": "ipython",
    "version": 2
   },
   "file_extension": ".py",
   "mimetype": "text/x-python",
   "name": "python",
   "nbconvert_exporter": "python",
   "pygments_lexer": "ipython2",
   "version": "2.7.14"
  }
 },
 "nbformat": 4,
 "nbformat_minor": 2
}
